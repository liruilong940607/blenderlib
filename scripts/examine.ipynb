{
 "cells": [
  {
   "cell_type": "code",
   "execution_count": null,
   "metadata": {},
   "outputs": [],
   "source": [
    "import os\n",
    "import json\n",
    "import numpy as np\n",
    "import torch\n",
    "import torch.nn.functional as F\n",
    "\n",
    "from implcarv.utils.plotly import PlotlyVisualizer\n",
    "\n",
    "visualizer = PlotlyVisualizer()\n",
    "\n",
    "meta_data = np.load(\"../results/Bear_cub_full_IP/meta_data.npz\")\n",
    "\n",
    "rest_bones_tail = torch.from_numpy(meta_data[\"rest_loc_tail\"]).float()\n",
    "rest_bones_head = torch.from_numpy(meta_data[\"rest_loc_head\"]).float()\n",
    "\n",
    "verts = torch.from_numpy(meta_data[\"verts\"]).float()\n",
    "rest_verts = torch.from_numpy(meta_data[\"rest_verts\"]).float()\n",
    "tfs = torch.from_numpy(meta_data[\"pose_matrix\"]).float()\n",
    "bones_tail = torch.einsum(\"bnij,nj->bni\", tfs[..., 0:3, :], F.pad(rest_bones_tail, pad=[0, 1], value=1))\n",
    "bones_head = torch.einsum(\"bnij,nj->bni\", tfs[..., 0:3, :], F.pad(rest_bones_head, pad=[0, 1], value=1))\n",
    "print (\"verts\", verts.shape, \"tfs\", tfs.shape)\n",
    "\n",
    "frame_id = 10\n",
    "visualizer.create_figure(\"figure\")\n",
    "# visualizer.add_pointcloud(\"verts\", verts[frame_id], color=[0.5, 0.5, 0.5])\n",
    "# visualizer.add_pointcloud(\"bones_head\", bones_head[frame_id], color=[1, 0, 0])\n",
    "# visualizer.add_pointcloud(\"bones_tail\", bones_tail[frame_id], color=[1, 1, 0])\n",
    "visualizer.add_pointcloud(\"verts\", rest_verts, color=[0.5, 0.5, 0.5])\n",
    "visualizer.add_pointcloud(\"bones_head\", rest_bones_head, color=[1, 0, 0])\n",
    "visualizer.add_pointcloud(\"bones_tail\", rest_bones_tail, color=[1, 1, 0])\n",
    "visualizer.show()\n"
   ]
  },
  {
   "cell_type": "code",
   "execution_count": null,
   "metadata": {},
   "outputs": [],
   "source": [
    "names = meta_data[\"names\"]\n",
    "stds = tfs.std(dim=0).amax(dim=[-1, -2])\n",
    "\n",
    "for name, std in zip(names, stds):\n",
    "    print (name, std)"
   ]
  },
  {
   "cell_type": "code",
   "execution_count": null,
   "metadata": {},
   "outputs": [],
   "source": [
    "import imageio\n",
    "\n",
    "camera_id = \"cam_002\"\n",
    "\n",
    "image = imageio.imread(\"../results/Bear_cub_full_IP/image/%s/%08d.png\" % (camera_id, frame_id))\n",
    "print (image.shape)\n",
    "image = image[:, :, 0:3]\n",
    "\n",
    "with open(\"../results/Bear_cub_full_IP/camera.json\", \"r\") as fp:\n",
    "    cameras = json.load(fp)\n",
    "    camera = cameras[camera_id]\n",
    "    K = torch.tensor(camera[\"intrin\"]).float()\n",
    "    w2c = torch.tensor(camera[\"extrin\"]).float()\n",
    "    print (K)\n",
    "    print (w2c)\n"
   ]
  },
  {
   "cell_type": "code",
   "execution_count": null,
   "metadata": {},
   "outputs": [],
   "source": [
    "import cv2\n",
    "\n",
    "bones_head_proj = torch.einsum(\n",
    "    \"ij,jk,nk->ni\", K, w2c[:3, :], F.pad(bones_head[frame_id], pad=[0, 1], value=1)\n",
    ")\n",
    "bones_head_proj = bones_head_proj[..., 0:2] / bones_head_proj[..., 2:3]\n",
    "\n",
    "canvas = image.copy()\n",
    "for x, y in bones_head_proj:\n",
    "    cv2.circle(canvas, \n",
    "               (int(x), int(y)),\n",
    "               radius=5,\n",
    "               color=(255, 0, 0),\n",
    "               thickness=-1)\n",
    "\n",
    "import matplotlib.pyplot as plt\n",
    "plt.rcParams[\"figure.figsize\"] = (10, 10)\n",
    "\n",
    "plt.imshow(canvas)\n"
   ]
  },
  {
   "cell_type": "code",
   "execution_count": null,
   "metadata": {},
   "outputs": [],
   "source": [
    "tt = np.pad(meta_data[\"rest_loc_head\"], pad_width=[(0, 0), (0, 1)], constant_values=1)\n",
    "tt[0]\n"
   ]
  },
  {
   "cell_type": "code",
   "execution_count": null,
   "metadata": {},
   "outputs": [],
   "source": [
    "meta_data[\"rest_loc_head\"].shape"
   ]
  },
  {
   "cell_type": "code",
   "execution_count": null,
   "metadata": {},
   "outputs": [],
   "source": [
    "print (bones_head[:, meta_data[\"names\"].tolist().index(\"Base_spine\")].mean())\n",
    "print (bones_head[:, meta_data[\"names\"].tolist().index(\"spine_2\")].mean())\n",
    "print (bones_head[:, meta_data[\"names\"].tolist().index(\"spine_3\")].mean())\n",
    "\n",
    "print (tfs[:, meta_data[\"names\"].tolist().index(\"Base_spine\")].mean())\n",
    "print (tfs[:, meta_data[\"names\"].tolist().index(\"spine_2\")].mean())\n",
    "print (tfs[:, meta_data[\"names\"].tolist().index(\"spine_3\")].mean())\n",
    "\n"
   ]
  },
  {
   "cell_type": "code",
   "execution_count": null,
   "metadata": {},
   "outputs": [],
   "source": [
    "print (bones_head[:, meta_data[\"names\"].tolist().index(\"Helper_foot_f.R\")].mean())\n",
    "print (bones_head[:, meta_data[\"names\"].tolist().index(\"foot_f.R\")].mean())\n",
    "\n",
    "print (tfs[:, meta_data[\"names\"].tolist().index(\"Helper_foot_f.R\")].mean())\n",
    "print (tfs[:, meta_data[\"names\"].tolist().index(\"foot_f.R\")].mean())\n",
    "\n"
   ]
  },
  {
   "cell_type": "code",
   "execution_count": null,
   "metadata": {},
   "outputs": [],
   "source": []
  }
 ],
 "metadata": {
  "interpreter": {
   "hash": "7862463db84c9620130b76a4d4fff7f25cba53753aa26e40b7c8fe78a1c4c832"
  },
  "kernelspec": {
   "display_name": "Python 3.7.11 64-bit ('implcarv': conda)",
   "language": "python",
   "name": "python3"
  },
  "language_info": {
   "codemirror_mode": {
    "name": "ipython",
    "version": 3
   },
   "file_extension": ".py",
   "mimetype": "text/x-python",
   "name": "python",
   "nbconvert_exporter": "python",
   "pygments_lexer": "ipython3",
   "version": "3.7.11"
  },
  "orig_nbformat": 4
 },
 "nbformat": 4,
 "nbformat_minor": 2
}
